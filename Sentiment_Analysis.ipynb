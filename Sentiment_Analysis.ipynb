{
  "nbformat": 4,
  "nbformat_minor": 0,
  "metadata": {
    "colab": {
      "name": "Sentiment_Analysis.ipynb",
      "provenance": [],
      "collapsed_sections": [],
      "authorship_tag": "ABX9TyOK9t9GN47QCVNH2X1eczEF",
      "include_colab_link": true
    },
    "kernelspec": {
      "display_name": "Python 3",
      "name": "python3"
    },
    "language_info": {
      "name": "python"
    }
  },
  "cells": [
    {
      "cell_type": "markdown",
      "metadata": {
        "id": "view-in-github",
        "colab_type": "text"
      },
      "source": [
        "<a href=\"https://colab.research.google.com/github/kanishkaverma26/Sentiment-Analysis/blob/main/Sentiment_Analysis.ipynb\" target=\"_parent\"><img src=\"https://colab.research.google.com/assets/colab-badge.svg\" alt=\"Open In Colab\"/></a>"
      ]
    },
    {
      "cell_type": "code",
      "metadata": {
        "id": "0LYHM38XnmIM"
      },
      "source": [
        "!pip install streamlit --quiet"
      ],
      "execution_count": 1,
      "outputs": []
    },
    {
      "cell_type": "code",
      "metadata": {
        "colab": {
          "base_uri": "https://localhost:8080/"
        },
        "id": "hixENLBQFEYz",
        "outputId": "bbe330f1-7a2b-41f6-af8a-95c63bfd4434"
      },
      "source": [
        "%%writefile app.py\n",
        "import streamlit as st \n",
        "import os\n",
        "from textblob import TextBlob\n",
        "# Title\n",
        "st.title(\"Sentiment Analysis\")\n",
        "result_sentiment=0\n",
        "# Sentiment Analysis\n",
        "st.subheader(\"Analyse Your Text\")\n",
        "message = st.text_area(\"Enter Text\")\n",
        "\n",
        "if st.button(\"Analyze\"):\n",
        "      blob = TextBlob(message)\n",
        "      result_sentiment=blob.sentiment[0]\n",
        "      \n",
        "    \n",
        "if result_sentiment > 0.5 :\n",
        "      st.write('Prediction  :')\n",
        "      st.subheader('Positive')\n",
        "      st.success(f'Score : {result_sentiment}')\n",
        "\n",
        "elif result_sentiment < 0 :\n",
        "      st.write('Prediction  :')\n",
        "      st.subheader('Negative')\n",
        "      st.success(f'Score : {result_sentiment}')\n",
        "\n",
        "else :\n",
        "      st.write('Prediction  :')\n",
        "      st.subheader('Neutral')\n",
        "      st.success(f'Score : {result_sentiment}')"
      ],
      "execution_count": 2,
      "outputs": [
        {
          "output_type": "stream",
          "text": [
            "Overwriting app.py\n"
          ],
          "name": "stdout"
        }
      ]
    },
    {
      "cell_type": "code",
      "metadata": {
        "colab": {
          "base_uri": "https://localhost:8080/"
        },
        "id": "Kc0b9SlkFZlA",
        "outputId": "1209881a-a02c-455e-a475-bac4035254af"
      },
      "source": [
        "!nohup streamlit run app.py &\n",
        "!pip install pyngrok==4.1.1\n",
        "from pyngrok import ngrok\n"
      ],
      "execution_count": 3,
      "outputs": [
        {
          "output_type": "stream",
          "text": [
            "nohup: appending output to 'nohup.out'\n",
            "Requirement already satisfied: pyngrok==4.1.1 in /usr/local/lib/python3.7/dist-packages (4.1.1)\n",
            "Requirement already satisfied: future in /usr/local/lib/python3.7/dist-packages (from pyngrok==4.1.1) (0.16.0)\n",
            "Requirement already satisfied: PyYAML in /usr/local/lib/python3.7/dist-packages (from pyngrok==4.1.1) (3.13)\n"
          ],
          "name": "stdout"
        }
      ]
    },
    {
      "cell_type": "code",
      "metadata": {
        "colab": {
          "base_uri": "https://localhost:8080/",
          "height": 35
        },
        "id": "UanUMfaRFpeq",
        "outputId": "9b18d5cf-ac96-467d-8019-440457fe7d2e"
      },
      "source": [
        "url = ngrok.connect(port='8501')\n",
        "url"
      ],
      "execution_count": 4,
      "outputs": [
        {
          "output_type": "execute_result",
          "data": {
            "application/vnd.google.colaboratory.intrinsic+json": {
              "type": "string"
            },
            "text/plain": [
              "'http://76e9687b6b5c.ngrok.io'"
            ]
          },
          "metadata": {
            "tags": []
          },
          "execution_count": 4
        }
      ]
    }
  ]
}